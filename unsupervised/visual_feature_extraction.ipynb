{
 "cells": [
  {
   "cell_type": "code",
   "execution_count": 1,
   "metadata": {},
   "outputs": [
    {
     "name": "stderr",
     "output_type": "stream",
     "text": [
      "/opt/anaconda3/lib/python3.9/site-packages/tqdm/auto.py:21: TqdmWarning: IProgress not found. Please update jupyter and ipywidgets. See https://ipywidgets.readthedocs.io/en/stable/user_install.html\n",
      "  from .autonotebook import tqdm as notebook_tqdm\n"
     ]
    }
   ],
   "source": [
    "import torch\n",
    "import torchxrayvision as xrv\n",
    "import torchvision.transforms as transforms\n",
    "from skimage import io\n",
    "import os\n",
    "import json"
   ]
  },
  {
   "cell_type": "code",
   "execution_count": 2,
   "metadata": {},
   "outputs": [],
   "source": [
    "device = torch.device(\"mps\") if torch.backends.mps.is_available() else torch.device(\"cpu\")"
   ]
  },
  {
   "cell_type": "code",
   "execution_count": 3,
   "metadata": {},
   "outputs": [],
   "source": [
    "image_folder = \"resized_images/\"\n",
    "output_file = \"extracted_features.json\""
   ]
  },
  {
   "cell_type": "code",
   "execution_count": 4,
   "metadata": {},
   "outputs": [],
   "source": [
    "transform = transforms.Compose([\n",
    "    xrv.datasets.XRayCenterCrop(),\n",
    "    xrv.datasets.XRayResizer(224)\n",
    "])"
   ]
  },
  {
   "cell_type": "code",
   "execution_count": 5,
   "metadata": {},
   "outputs": [],
   "source": [
    "model = xrv.models.DenseNet(weights=\"densenet121-res224-all\").to(device)\n"
   ]
  },
  {
   "cell_type": "code",
   "execution_count": null,
   "metadata": {},
   "outputs": [],
   "source": [
    "with open(output_file, 'w') as f:\n",
    "    f.write(\"{\\n\")  # Start of JSON object\n",
    "    \n",
    "    # Iterate over all PNG images in the folder\n",
    "    for idx, img_name in enumerate(os.listdir(image_folder)):\n",
    "        if img_name.endswith(\".png\"):\n",
    "            img_path = os.path.join(image_folder, img_name)\n",
    "            \n",
    "            # Load and preprocess the image\n",
    "            img = io.imread(img_path)\n",
    "            img = xrv.datasets.normalize(img, 255)  # Normalize the image\n",
    "            img = img.mean(2)[None, ...]  # Convert to single color channel\n",
    "            img = transform(img)\n",
    "            img = torch.from_numpy(img).unsqueeze(0).to(device)  # Add batch dimension and move to MPS/CPU\n",
    "\n",
    "            # Extract features using DenseNet model\n",
    "            features = model.features(img)\n",
    "            \n",
    "            # Move features back to CPU for serialization\n",
    "            features = features.cpu().detach().numpy().tolist()\n",
    "            \n",
    "            # Write the current image's features to the file\n",
    "            f.write(f'\"{img_name}\": {json.dumps(features)}')\n",
    "            \n",
    "            # Add a comma after each entry except the last one\n",
    "            if idx < len(os.listdir(image_folder)) - 1:\n",
    "                f.write(\",\\n\")\n",
    "            else:\n",
    "                f.write(\"\\n\")\n",
    "    \n",
    "    f.write(\"}\\n\")  # End of JSON object"
   ]
  }
 ],
 "metadata": {
  "kernelspec": {
   "display_name": "Python 3.9.7 ('base')",
   "language": "python",
   "name": "python3"
  },
  "language_info": {
   "codemirror_mode": {
    "name": "ipython",
    "version": 3
   },
   "file_extension": ".py",
   "mimetype": "text/x-python",
   "name": "python",
   "nbconvert_exporter": "python",
   "pygments_lexer": "ipython3",
   "version": "3.9.7"
  },
  "orig_nbformat": 4,
  "vscode": {
   "interpreter": {
    "hash": "40d3a090f54c6569ab1632332b64b2c03c39dcf918b08424e98f38b5ae0af88f"
   }
  }
 },
 "nbformat": 4,
 "nbformat_minor": 2
}
