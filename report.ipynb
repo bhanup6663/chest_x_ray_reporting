{
 "cells": [
  {
   "cell_type": "code",
   "execution_count": null,
   "metadata": {},
   "outputs": [],
   "source": []
  },
  {
   "cell_type": "code",
   "execution_count": 1,
   "metadata": {},
   "outputs": [
    {
     "name": "stderr",
     "output_type": "stream",
     "text": [
      "/opt/anaconda3/lib/python3.9/site-packages/tqdm/auto.py:21: TqdmWarning: IProgress not found. Please update jupyter and ipywidgets. See https://ipywidgets.readthedocs.io/en/stable/user_install.html\n",
      "  from .autonotebook import tqdm as notebook_tqdm\n"
     ]
    }
   ],
   "source": [
    "import json\n",
    "import os\n",
    "from PIL import Image, ImageDraw\n",
    "import torch\n",
    "from transformers import AutoTokenizer, AutoModelForCausalLM\n",
    "from langchain import LLMChain\n",
    "from langchain.prompts import PromptTemplate"
   ]
  },
  {
   "cell_type": "code",
   "execution_count": 2,
   "metadata": {},
   "outputs": [],
   "source": [
    "with open('../phase1_results.json', 'r') as f:\n",
    "    bounding_boxes = json.load(f)"
   ]
  },
  {
   "cell_type": "code",
   "execution_count": 3,
   "metadata": {},
   "outputs": [],
   "source": [
    "image_folder = '../test_resized/'"
   ]
  },
  {
   "cell_type": "code",
   "execution_count": 4,
   "metadata": {},
   "outputs": [],
   "source": [
    "output_folder = 'output_folder'\n",
    "if not os.path.exists(output_folder):\n",
    "    os.makedirs(output_folder)"
   ]
  },
  {
   "cell_type": "code",
   "execution_count": 5,
   "metadata": {},
   "outputs": [],
   "source": [
    "def set_device():\n",
    "    device = \"cuda\" if torch.cuda.is_available() else \"cpu\"\n",
    "    return device\n",
    "\n",
    "device=set_device()"
   ]
  },
  {
   "cell_type": "code",
   "execution_count": 6,
   "metadata": {},
   "outputs": [
    {
     "name": "stderr",
     "output_type": "stream",
     "text": [
      "Loading checkpoint shards: 100%|██████████| 4/4 [00:44<00:00, 11.01s/it]\n"
     ]
    }
   ],
   "source": [
    "# Load model directly\n",
    "\n",
    "\n",
    "tokenizer = AutoTokenizer.from_pretrained(\"Laim/Llama-3.1-MedPalm2-imitate-8B-Instruct\")\n",
    "model = AutoModelForCausalLM.from_pretrained(\"Laim/Llama-3.1-MedPalm2-imitate-8B-Instruct\")"
   ]
  },
  {
   "cell_type": "code",
   "execution_count": null,
   "metadata": {},
   "outputs": [],
   "source": []
  },
  {
   "cell_type": "code",
   "execution_count": 7,
   "metadata": {},
   "outputs": [],
   "source": [
    "def preprocess_box(box, image_width, image_height):\n",
    "    x_min, y_min, x_max, y_max = box\n",
    "    width = x_max - x_min\n",
    "    height = y_max - y_min\n",
    "    position_x = x_min / image_width\n",
    "    position_y = y_min / image_height\n",
    "    box_center_x = (x_min + x_max) / 2\n",
    "    box_center_y = (y_min + y_max) / 2\n",
    "    \n",
    "    return {\n",
    "        \"width\": width,\n",
    "        \"height\": height,\n",
    "        \"position_x\": position_x,\n",
    "        \"position_y\": position_y,\n",
    "        \"center_x\": box_center_x,\n",
    "        \"center_y\": box_center_y\n",
    "    }"
   ]
  },
  {
   "cell_type": "code",
   "execution_count": 8,
   "metadata": {},
   "outputs": [],
   "source": [
    "def generate_prompt(box_data):\n",
    "    prompt = \"Based on the following abnormalities found in the X-ray image, please provide a detailed medical report:\\n\"\n",
    "    for entry in box_data:\n",
    "        box_info = preprocess_box(entry['box'], 512, 512)  # Assuming the image has been resized to 512x512\n",
    "        prompt += (\n",
    "            f\"- {entry['class_label']} located at approximately \"\n",
    "            f\"({box_info['position_x']:.2f}, {box_info['position_y']:.2f}) relative to the image size. \"\n",
    "            f\"The bounding box is centered at ({box_info['center_x']:.2f}, {box_info['center_y']:.2f}).\\n\"\n",
    "        )\n",
    "    prompt += \"What could be the potential diagnoses and implications?\"\n",
    "    return prompt"
   ]
  },
  {
   "cell_type": "code",
   "execution_count": 9,
   "metadata": {},
   "outputs": [],
   "source": [
    "def process_image(image_path, box_data):\n",
    "    # Load and resize image\n",
    "    image = Image.open(image_path).convert(\"RGB\")\n",
    "    image = image.resize((512, 512))\n",
    "    \n",
    "    # Draw bounding boxes\n",
    "    draw = ImageDraw.Draw(image)\n",
    "    for entry in box_data:\n",
    "        box = entry['box']\n",
    "        draw.rectangle(box, outline=\"red\", width=3)\n",
    "    \n",
    "    return image"
   ]
  },
  {
   "cell_type": "code",
   "execution_count": 10,
   "metadata": {},
   "outputs": [],
   "source": [
    "image_ids_of_interest = [\"f1ae5125f7a72feed87fc0afa919b261.png\"]\n"
   ]
  },
  {
   "cell_type": "code",
   "execution_count": 12,
   "metadata": {},
   "outputs": [
    {
     "name": "stderr",
     "output_type": "stream",
     "text": [
      "Setting `pad_token_id` to `eos_token_id`:128001 for open-end generation.\n"
     ]
    },
    {
     "name": "stdout",
     "output_type": "stream",
     "text": [
      "Report:\n",
      "Based on the following abnormalities found in the X-ray image, please provide a detailed medical report:\n",
      "- Consolidation located at approximately (0.38, 0.61) relative to the image size. The bounding box is centered at (310.00, 338.00).\n",
      "- Atelectasis located at approximately (0.50, 0.27) relative to the image size. The bounding box is centered at (283.00, 172.00).\n",
      "What could be the potential diagnoses and implications? \n",
      "The provided information indicates that there are two distinct findings present within this chest radiograph: consolidation of lung tissue with an associated increase density consistent with fluid or inflammation; as well as areas where air-filled structures have collapsed resulting from obstruction.\n",
      "Consolidations can result due various causes including infections such pneumonia bacterial infection viral respiratory syncytial virus RSV tuberculosis TB bronchopulmonary dysplasia BPD aspiration foreign body injury trauma malignancy\n",
      "Atelectases may arise secondary complications related underlying conditions like chronic obstructive pulmonary disease COPD cystic fibrosis CF asthma cancer sarcoidosis interstitial pneumonitis Pneumocystis jirovecii PCP fungal diseases parasitic infestions congenital anomalies malformative syndromes acquired\n",
      "\n"
     ]
    }
   ],
   "source": [
    "for image_id in image_ids_of_interest:\n",
    "    if image_id not in bounding_boxes or not bounding_boxes[image_id]:  # Skip if no bounding boxes\n",
    "        continue\n",
    "    \n",
    "    box_data = bounding_boxes[image_id]\n",
    "    \n",
    "    # Retrieve and process the image\n",
    "    image_path = os.path.join(image_folder, image_id)\n",
    "    processed_image = process_image(image_path, box_data)\n",
    "    \n",
    "    # Generate prompt with bounding box information\n",
    "    prompt = generate_prompt(box_data)\n",
    "    \n",
    "    inputs = tokenizer(prompt, return_tensors=\"pt\")\n",
    "    outputs = model.generate(\n",
    "        **inputs,\n",
    "        max_new_tokens=150,      # Adjust as needed for concise reports\n",
    "        temperature=0.2,         # Balance between creativity and coherence\n",
    "        top_p=0.9,               # Nucleus sampling for diverse output\n",
    "        repetition_penalty=1.5   # Penalty for repetition to avoid echoing the prompt\n",
    "    )\n",
    "\n",
    "    report = tokenizer.decode(outputs[0], skip_special_tokens=True)\n",
    "    \n",
    "    # Display the image with bounding boxes and the report\n",
    "    # processed_image.show(title=\"X-ray Image\")\n",
    "    print(f\"Report:\\n{report}\\n\")\n",
    "\n",
    "    # # Save the processed image with bounding boxes and report\n",
    "    # save_path = os.path.join(output_folder, image_id)\n",
    "    # processed_image.save(save_path)\n",
    "    # with open(save_path.replace('.png', '_report.txt'), 'w') as report_file:\n",
    "    #     report_file.write(report)"
   ]
  }
 ],
 "metadata": {
  "kernelspec": {
   "display_name": "Python 3.9.7 ('base')",
   "language": "python",
   "name": "python3"
  },
  "language_info": {
   "codemirror_mode": {
    "name": "ipython",
    "version": 3
   },
   "file_extension": ".py",
   "mimetype": "text/x-python",
   "name": "python",
   "nbconvert_exporter": "python",
   "pygments_lexer": "ipython3",
   "version": "3.9.7"
  },
  "orig_nbformat": 4,
  "vscode": {
   "interpreter": {
    "hash": "40d3a090f54c6569ab1632332b64b2c03c39dcf918b08424e98f38b5ae0af88f"
   }
  }
 },
 "nbformat": 4,
 "nbformat_minor": 2
}
