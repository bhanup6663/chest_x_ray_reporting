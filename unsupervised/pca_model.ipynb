{
 "cells": [
  {
   "cell_type": "code",
   "execution_count": 1,
   "metadata": {},
   "outputs": [],
   "source": [
    "import json\n",
    "import numpy as np\n",
    "import ijson\n",
    "import os\n",
    "from sklearn.decomposition import IncrementalPCA\n",
    "import joblib"
   ]
  },
  {
   "cell_type": "code",
   "execution_count": 2,
   "metadata": {},
   "outputs": [],
   "source": [
    "batch_size = 1200  # Adjust based on your memory constraints\n",
    "n_components = 200  # Number of components for PCA"
   ]
  },
  {
   "cell_type": "code",
   "execution_count": 4,
   "metadata": {},
   "outputs": [],
   "source": [
    "ipca = IncrementalPCA(n_components=n_components)"
   ]
  },
  {
   "cell_type": "code",
   "execution_count": 5,
   "metadata": {},
   "outputs": [],
   "source": [
    "training_data_path = \"../../extracted_features.json\""
   ]
  },
  {
   "cell_type": "code",
   "execution_count": 6,
   "metadata": {},
   "outputs": [
    {
     "name": "stdout",
     "output_type": "stream",
     "text": [
      "Refitting Incremental PCA on training data...\n",
      "PCA fitting on training data completed.\n"
     ]
    }
   ],
   "source": [
    "print(\"Refitting Incremental PCA on training data...\")\n",
    "with open(training_data_path, \"r\") as f:\n",
    "    batch_data = []\n",
    "    for idx, (img_name, features) in enumerate(ijson.kvitems(f, '')):\n",
    "        features_np = np.array(features).flatten().reshape(1, -1)\n",
    "        batch_data.append(features_np)\n",
    "\n",
    "        if len(batch_data) >= batch_size:\n",
    "            batch_array = np.vstack(batch_data)\n",
    "            ipca.partial_fit(batch_array)\n",
    "            batch_data = []\n",
    "\n",
    "    if batch_data:\n",
    "        batch_array = np.vstack(batch_data)\n",
    "        ipca.partial_fit(batch_array)\n",
    "\n",
    "print(\"PCA fitting on training data completed.\")"
   ]
  },
  {
   "cell_type": "code",
   "execution_count": 7,
   "metadata": {},
   "outputs": [
    {
     "name": "stdout",
     "output_type": "stream",
     "text": [
      "PCA model saved at pca_model.pkl\n"
     ]
    }
   ],
   "source": [
    "pca_model_path = \"pca_model.pkl\"\n",
    "joblib.dump(ipca, pca_model_path)\n",
    "print(f\"PCA model saved at {pca_model_path}\")"
   ]
  }
 ],
 "metadata": {
  "kernelspec": {
   "display_name": "Python 3.9.7 ('base')",
   "language": "python",
   "name": "python3"
  },
  "language_info": {
   "codemirror_mode": {
    "name": "ipython",
    "version": 3
   },
   "file_extension": ".py",
   "mimetype": "text/x-python",
   "name": "python",
   "nbconvert_exporter": "python",
   "pygments_lexer": "ipython3",
   "version": "3.9.7"
  },
  "orig_nbformat": 4,
  "vscode": {
   "interpreter": {
    "hash": "40d3a090f54c6569ab1632332b64b2c03c39dcf918b08424e98f38b5ae0af88f"
   }
  }
 },
 "nbformat": 4,
 "nbformat_minor": 2
}
