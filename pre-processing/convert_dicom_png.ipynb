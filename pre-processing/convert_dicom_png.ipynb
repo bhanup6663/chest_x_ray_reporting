{
 "cells": [
  {
   "cell_type": "code",
   "execution_count": 1,
   "metadata": {},
   "outputs": [],
   "source": [
    "import pydicom\n",
    "import os\n",
    "from PIL import Image\n",
    "import numpy as np"
   ]
  },
  {
   "cell_type": "code",
   "execution_count": 2,
   "metadata": {},
   "outputs": [],
   "source": [
    "def dicom_to_png(dicom_file, output_file):\n",
    "    # Load the DICOM file\n",
    "    dicom_data = pydicom.dcmread(dicom_file)\n",
    "\n",
    "    # Extract the pixel data from the DICOM file\n",
    "    pixel_array = dicom_data.pixel_array\n",
    "\n",
    "    # Normalize the pixel array to the range [0, 255]\n",
    "    pixel_array = (pixel_array - np.min(pixel_array)) / (np.max(pixel_array) - np.min(pixel_array)) * 255.0\n",
    "    pixel_array = pixel_array.astype(np.uint8)\n",
    "\n",
    "    # Convert the pixel array to a PIL Image\n",
    "    image = Image.fromarray(pixel_array)\n",
    "\n",
    "    # Save the image as PNG\n",
    "    image.save(output_file)\n",
    "\n",
    "def convert_folder(input_folder, output_folder):\n",
    "    if not os.path.exists(output_folder):\n",
    "        os.makedirs(output_folder)\n",
    "\n",
    "    for filename in os.listdir(input_folder):\n",
    "        if filename.endswith(\".dicom\"):\n",
    "            dicom_file = os.path.join(input_folder, filename)\n",
    "            output_file = os.path.join(output_folder, f\"{os.path.splitext(filename)[0]}.png\")\n",
    "            dicom_to_png(dicom_file, output_file)\n",
    "\n"
   ]
  },
  {
   "cell_type": "code",
   "execution_count": 3,
   "metadata": {},
   "outputs": [
    {
     "name": "stderr",
     "output_type": "stream",
     "text": [
      "/opt/anaconda3/lib/python3.9/site-packages/pydicom/pixel_data_handlers/pillow_handler.py:238: UserWarning: The (0028,0101) 'Bits Stored' value (12-bit) doesn't match the JPEG 2000 data (16-bit). It's recommended that you change the 'Bits Stored' value\n",
      "  warnings.warn(\n",
      "/opt/anaconda3/lib/python3.9/site-packages/pydicom/pixel_data_handlers/pillow_handler.py:238: UserWarning: The (0028,0101) 'Bits Stored' value (14-bit) doesn't match the JPEG 2000 data (16-bit). It's recommended that you change the 'Bits Stored' value\n",
      "  warnings.warn(\n"
     ]
    },
    {
     "name": "stdout",
     "output_type": "stream",
     "text": [
      "Conversion completed!\n"
     ]
    }
   ],
   "source": [
    "if __name__ == \"__main__\":\n",
    "    input_folder = \"test/\"  # Replace with your DICOM folder path\n",
    "    output_folder = \"test_resized/\"  # Replace with your desired output folder path\n",
    "\n",
    "    convert_folder(input_folder, output_folder)\n",
    "    print(\"Conversion completed!\")\n"
   ]
  }
 ],
 "metadata": {
  "kernelspec": {
   "display_name": "Python 3.9.7 ('base')",
   "language": "python",
   "name": "python3"
  },
  "language_info": {
   "codemirror_mode": {
    "name": "ipython",
    "version": 3
   },
   "file_extension": ".py",
   "mimetype": "text/x-python",
   "name": "python",
   "nbconvert_exporter": "python",
   "pygments_lexer": "ipython3",
   "version": "3.9.7"
  },
  "orig_nbformat": 4,
  "vscode": {
   "interpreter": {
    "hash": "40d3a090f54c6569ab1632332b64b2c03c39dcf918b08424e98f38b5ae0af88f"
   }
  }
 },
 "nbformat": 4,
 "nbformat_minor": 2
}
